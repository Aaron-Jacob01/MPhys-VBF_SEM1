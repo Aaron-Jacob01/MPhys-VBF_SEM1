{
 "cells": [
  {
   "cell_type": "code",
   "execution_count": 1,
   "id": "393831cd",
   "metadata": {},
   "outputs": [
    {
     "name": "stdout",
     "output_type": "stream",
     "text": [
      "Requirement already satisfied: uproot in ./opt/anaconda3/lib/python3.8/site-packages (5.1.2)\n",
      "Requirement already satisfied: awkward>=2.4.6 in ./opt/anaconda3/lib/python3.8/site-packages (from uproot) (2.5.1)\n",
      "Requirement already satisfied: typing-extensions>=4.1.0 in ./opt/anaconda3/lib/python3.8/site-packages (from uproot) (4.9.0)\n",
      "Requirement already satisfied: numpy in ./opt/anaconda3/lib/python3.8/site-packages (from uproot) (1.20.1)\n",
      "Requirement already satisfied: packaging in ./opt/anaconda3/lib/python3.8/site-packages (from uproot) (20.9)\n",
      "Requirement already satisfied: importlib-metadata>=4.13.0 in ./opt/anaconda3/lib/python3.8/site-packages (from awkward>=2.4.6->uproot) (7.0.0)\n",
      "Requirement already satisfied: awkward-cpp==27 in ./opt/anaconda3/lib/python3.8/site-packages (from awkward>=2.4.6->uproot) (27)\n",
      "Requirement already satisfied: importlib_resources in ./opt/anaconda3/lib/python3.8/site-packages (from awkward-cpp==27->awkward>=2.4.6->uproot) (6.1.1)\n",
      "Requirement already satisfied: zipp>=0.5 in ./opt/anaconda3/lib/python3.8/site-packages (from importlib-metadata>=4.13.0->awkward>=2.4.6->uproot) (3.4.1)\n",
      "Requirement already satisfied: pyparsing>=2.0.2 in ./opt/anaconda3/lib/python3.8/site-packages (from packaging->uproot) (2.4.7)\n",
      "Note: you may need to restart the kernel to use updated packages.\n"
     ]
    }
   ],
   "source": [
    "pip install uproot "
   ]
  },
  {
   "cell_type": "code",
   "execution_count": 2,
   "id": "5b7c6def",
   "metadata": {},
   "outputs": [
    {
     "name": "stdout",
     "output_type": "stream",
     "text": [
      "Requirement already satisfied: vector in ./opt/anaconda3/lib/python3.8/site-packages (1.1.1.post1)\n",
      "Requirement already satisfied: packaging>=19 in ./opt/anaconda3/lib/python3.8/site-packages (from vector) (20.9)\n",
      "Requirement already satisfied: numpy>=1.13.3 in ./opt/anaconda3/lib/python3.8/site-packages (from vector) (1.20.1)\n",
      "Requirement already satisfied: pyparsing>=2.0.2 in ./opt/anaconda3/lib/python3.8/site-packages (from packaging>=19->vector) (2.4.7)\n",
      "Note: you may need to restart the kernel to use updated packages.\n"
     ]
    }
   ],
   "source": [
    "pip install vector "
   ]
  },
  {
   "cell_type": "code",
   "execution_count": 3,
   "id": "f4a64dcd",
   "metadata": {},
   "outputs": [],
   "source": [
    "import uproot \n",
    "import vector \n",
    "import matplotlib.pyplot as plt\n",
    "import matplotlib.patches as mpatches\n",
    "import numpy as np\n",
    "import awkward as ak "
   ]
  },
  {
   "cell_type": "code",
   "execution_count": 14,
   "id": "70625b96",
   "metadata": {},
   "outputs": [],
   "source": [
    "def data_extract(rootfilename):\n",
    "\n",
    "    # Opens the .root file and extract the data\n",
    "\n",
    "    tree = uproot.open(rootfilename+'.root:Delphes')\n",
    "\n",
    "    events = tree.arrays(['Event.Weight','Electron_size', 'Electron.PT', 'Electron.Eta', 'Electron.Phi',\n",
    "                              'Muon_size', 'Muon.PT', 'Muon.Eta', 'Muon.Phi',\n",
    "                          'Jet_size', 'Jet.PT', 'Jet.Eta', 'Jet.Phi', 'Jet.TauTag', 'Jet.Mass', 'Jet.Flavor', 'Jet.BTag', \n",
    "                         'MissingET.MET', 'MissingET.Eta', 'MissingET.Phi'])\n",
    "\n",
    "    return events\n",
    "\n",
    "def jet_and_lepton(event, selection, lepton):\n",
    "    #Selects events with two electrons and at least two jets, that can change the jet filters selection = 0 filter \n",
    "    #for no b jets and 2 or 3 light, \n",
    "    # selection = 1 is no be jets, selection = 2 doesnt mask based on b tagging \n",
    "    \n",
    "    #creates four vectors of all detected particles in all events\n",
    "    electrons = vector.zip({'pt': (event['Electron.PT']), 'eta': (event['Electron.Eta']),\n",
    "                            'phi': (event['Electron.Phi']), 'mass': 0.0511})\n",
    "    \n",
    "    jets = vector.zip({'pt': (event['Jet.PT']), 'eta': (event['Jet.Eta']),\n",
    "                       'phi': (event['Jet.Phi']), 'mass': (event['Jet.Mass'])})\n",
    "    \n",
    "    missing = vector.zip({'pt': (event['MissingET.MET']), 'eta': (event['MissingET.Eta']),\n",
    "                            'phi': (event['MissingET.Phi']), 'mass': 0})\n",
    "    \n",
    "    muons = vector.zip({'pt': (event['Muon.PT']), 'eta': (event['Muon.Eta']),\n",
    "                            'phi': (event['Muon.Phi']), 'mass': 0.10566})\n",
    "    \n",
    "    #start creating the event mask which determines whether to cut EVENT or not\n",
    "    no_e_mask = event['Electron_size'] == 0\n",
    "    \n",
    "    mu_mask = event['Muon_size'] == 1\n",
    "\n",
    "    \n",
    "    pt_above_25 = event['Jet.PT'] >= 25\n",
    "    one_jet_above_25_mask = ak.num(pt_above_25, axis=1) == 1\n",
    "    #requires that we only consider events with at least 2 non tau jets above 25GeV, anything below we dont consider as jets.\n",
    "    \n",
    "    b_tag = event['Jet.BTag'] == 1\n",
    "    filtered_data_b = jets[b_tag]\n",
    "    no_b_jet_mask = ak.num(filtered_data_b, axis=1) == 0 \n",
    "    \n",
    "    light_jets = event['Jet.BTag'] == 0\n",
    "    filtered_data_light = jets[light_jets]\n",
    "    n_light_jet_min_mask = ak.num(filtered_data_light, axis=1) > 0 \n",
    "    n_light_jet_max_mask = ak.num(filtered_data_light, axis=1) < 2\n",
    "    n_light_jet_mask = n_light_jet_min_mask & n_light_jet_max_mask\n",
    "    \n",
    "    \n",
    "    #finished creating event mask now we can interactively change which masks are zipped into overall event mask \n",
    "    if selection == 0:\n",
    "        event_mask = one_jet_above_25_mask & no_b_jet_mask & n_light_jet_mask\n",
    "    elif selection == 1:\n",
    "        event_mask = one_jet_above_25_mask & no_b_jet_mask\n",
    "    elif selection == 2:\n",
    "        event_mask = one_jet_above_25_mask\n",
    "       \n",
    "    \n",
    "    #interactively determine whether we want to return muons or electrons\n",
    "    if lepton == 'electron':\n",
    "        event_mask = event_mask & e_mask & no_mu_mask\n",
    "    elif lepton == 'muon':\n",
    "        event_mask = event_mask & no_e_mask & mu_mask\n",
    "\n",
    "    # now filter the 4 vectors with the masks made\n",
    "    jet_electron = electrons[event_mask]\n",
    "    jet_muon = muons[event_mask]\n",
    "    missing_momentum = missing[event_mask]\n",
    "    \n",
    "    #event filtered jets \n",
    "    jets_filtered = jets[event_mask]\n",
    "    \n",
    "    #leading jets found at 0 and 1 and guaranteed to be at PT above 25 due to event mask \n",
    "    leading_jet = jets_filtered[:,0]\n",
    "\n",
    "   \n",
    "\n",
    "    \n",
    "    \n",
    "    #return different sets dependig on if you want electron or muon\n",
    "    \n",
    "    if lepton == 'electron':\n",
    "        return jet_electron[:,0], leading_jet, missing_momentum\n",
    "    elif lepton == 'muon':\n",
    "        return jet_muon[:,0], leading_jet, missing_momentum\n",
    "    \n",
    "def scatter_plot_muon_MET(muon, lead):\n",
    "    plt.scatter(muon.pt, lead.pt, s=0.5, color='red')\n",
    "    plt.ylabel('Magnitude of Missing ET [GeV]')\n",
    "    plt.xlabel('Jet PT [GeV]')\n",
    "    plt.title('Scatter plot of Missing ET against Jet PT')\n",
    "    plt.savefig('scatter_plot_muon_vs_MET.png')"
   ]
  },
  {
   "cell_type": "code",
   "execution_count": 15,
   "id": "4bbce834",
   "metadata": {},
   "outputs": [
    {
     "name": "stdout",
     "output_type": "stream",
     "text": [
      "[{rho: 43.2, phi: 1.23, eta: -1.45, tau: 0.106}, {...}, ..., {rho: 31.1, ...}]\n",
      "[{rho: 43, phi: -1.91, eta: -0.507, tau: 0.116}, {...}, ..., {rho: 40.9, ...}]\n",
      "[[{rho: 11.7, phi: 2.02, eta: -3.78, tau: 0}], [{...}], ..., [{rho: 8.74, ...}]]\n"
     ]
    },
    {
     "data": {
      "image/png": "[encoded data removed]",
      "text/plain": [
       "<Figure size 432x288 with 1 Axes>"
      ]
     },
     "metadata": {
      "needs_background": "light"
     },
     "output_type": "display_data"
    }
   ],
   "source": [
    "muon, lead, miss = jet_and_lepton(data_extract('mumu_production'), 0, 'muon')\n",
    "print(muon)\n",
    "print(lead)\n",
    "print(miss)\n",
    "scatter_plot_muon_MET(muon, lead)"
   ]
  }
 ],
 "metadata": {
  "kernelspec": {
   "display_name": "Python 3",
   "language": "python",
   "name": "python3"
  },
  "language_info": {
   "codemirror_mode": {
    "name": "ipython",
    "version": 3
   },
   "file_extension": ".py",
   "mimetype": "text/x-python",
   "name": "python",
   "nbconvert_exporter": "python",
   "pygments_lexer": "ipython3",
   "version": "3.8.8"
  }
 },
 "nbformat": 4,
 "nbformat_minor": 5
}
